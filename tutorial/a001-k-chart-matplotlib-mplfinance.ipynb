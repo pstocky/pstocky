{
 "cells": [
  {
   "cell_type": "markdown",
   "metadata": {},
   "source": [
    "# 基于 mplfinance & matplotlib 的 k 线图画法\n",
    "\n",
    "学习股票分析的第一步：\n",
    "\n",
    "基于最普遍使用的 python 库，画出个股的 k 线图。\n",
    "\n",
    "技术基本面：\n",
    "\n",
    "- matplotlib：jupyter 里最常用的作图库，功能丰富，社区庞大。\n",
    "- mplfinance：matplotlib.finance 独立出来，并进行了 API 重构。\n",
    "\n",
    "    matplotlib utilities for the visualization, and visual analysis, of financial data\n",
    "\n",
    "弊端：\n",
    "\n",
    "1. 交互性差。需要使用基于 web html 类的方案。比如 Pyecharts 等"
   ]
  },
  {
   "cell_type": "code",
   "execution_count": 1,
   "metadata": {},
   "outputs": [
    {
     "name": "stdout",
     "output_type": "stream",
     "text": [
      "Populating the interactive namespace from numpy and matplotlib\n"
     ]
    }
   ],
   "source": [
    "import tushare as ts\n",
    "import matplotlib.pyplot as plt\n",
    "from matplotlib.dates import date2num\n",
    "import datetime\n",
    "import pandas as pd\n",
    "\n",
    "# import mpl_finance as mpf\n",
    "from mplfinance.original_flavor import candlestick_ohlc\n",
    "\n",
    "%matplotlib inline\n",
    "%pylab inline"
   ]
  },
  {
   "cell_type": "code",
   "execution_count": 2,
   "metadata": {},
   "outputs": [],
   "source": [
    "plt.rcParams['figure.figsize'] = [15, 5]"
   ]
  },
  {
   "cell_type": "markdown",
   "metadata": {},
   "source": [
    "# tushare 免费 API 获取历史数据"
   ]
  },
  {
   "cell_type": "code",
   "execution_count": 3,
   "metadata": {},
   "outputs": [
    {
     "name": "stdout",
     "output_type": "stream",
     "text": [
      "本接口即将停止更新，请尽快使用Pro版接口：https://tushare.pro/document/2\n"
     ]
    },
    {
     "data": {
      "text/html": [
       "<div>\n",
       "<style scoped>\n",
       "    .dataframe tbody tr th:only-of-type {\n",
       "        vertical-align: middle;\n",
       "    }\n",
       "\n",
       "    .dataframe tbody tr th {\n",
       "        vertical-align: top;\n",
       "    }\n",
       "\n",
       "    .dataframe thead th {\n",
       "        text-align: right;\n",
       "    }\n",
       "</style>\n",
       "<table border=\"1\" class=\"dataframe\">\n",
       "  <thead>\n",
       "    <tr style=\"text-align: right;\">\n",
       "      <th></th>\n",
       "      <th>open</th>\n",
       "      <th>high</th>\n",
       "      <th>close</th>\n",
       "      <th>low</th>\n",
       "      <th>volume</th>\n",
       "      <th>price_change</th>\n",
       "      <th>p_change</th>\n",
       "      <th>ma5</th>\n",
       "      <th>ma10</th>\n",
       "      <th>ma20</th>\n",
       "      <th>v_ma5</th>\n",
       "      <th>v_ma10</th>\n",
       "      <th>v_ma20</th>\n",
       "      <th>turnover</th>\n",
       "    </tr>\n",
       "    <tr>\n",
       "      <th>date</th>\n",
       "      <th></th>\n",
       "      <th></th>\n",
       "      <th></th>\n",
       "      <th></th>\n",
       "      <th></th>\n",
       "      <th></th>\n",
       "      <th></th>\n",
       "      <th></th>\n",
       "      <th></th>\n",
       "      <th></th>\n",
       "      <th></th>\n",
       "      <th></th>\n",
       "      <th></th>\n",
       "      <th></th>\n",
       "    </tr>\n",
       "  </thead>\n",
       "  <tbody>\n",
       "    <tr>\n",
       "      <th>2020-08-13</th>\n",
       "      <td>77.50</td>\n",
       "      <td>77.60</td>\n",
       "      <td>76.60</td>\n",
       "      <td>76.51</td>\n",
       "      <td>421355.47</td>\n",
       "      <td>-0.56</td>\n",
       "      <td>-0.73</td>\n",
       "      <td>76.774</td>\n",
       "      <td>76.916</td>\n",
       "      <td>77.641</td>\n",
       "      <td>606511.87</td>\n",
       "      <td>755315.80</td>\n",
       "      <td>808329.45</td>\n",
       "      <td>0.39</td>\n",
       "    </tr>\n",
       "    <tr>\n",
       "      <th>2020-08-12</th>\n",
       "      <td>76.80</td>\n",
       "      <td>77.46</td>\n",
       "      <td>77.16</td>\n",
       "      <td>76.40</td>\n",
       "      <td>586012.62</td>\n",
       "      <td>0.39</td>\n",
       "      <td>0.51</td>\n",
       "      <td>76.884</td>\n",
       "      <td>76.859</td>\n",
       "      <td>77.722</td>\n",
       "      <td>651753.37</td>\n",
       "      <td>777804.57</td>\n",
       "      <td>853170.18</td>\n",
       "      <td>0.54</td>\n",
       "    </tr>\n",
       "    <tr>\n",
       "      <th>2020-08-11</th>\n",
       "      <td>77.45</td>\n",
       "      <td>78.68</td>\n",
       "      <td>76.77</td>\n",
       "      <td>76.51</td>\n",
       "      <td>775309.00</td>\n",
       "      <td>-0.24</td>\n",
       "      <td>-0.31</td>\n",
       "      <td>76.878</td>\n",
       "      <td>76.873</td>\n",
       "      <td>77.875</td>\n",
       "      <td>692112.04</td>\n",
       "      <td>789489.84</td>\n",
       "      <td>870007.94</td>\n",
       "      <td>0.72</td>\n",
       "    </tr>\n",
       "    <tr>\n",
       "      <th>2020-08-10</th>\n",
       "      <td>76.02</td>\n",
       "      <td>77.69</td>\n",
       "      <td>77.01</td>\n",
       "      <td>75.82</td>\n",
       "      <td>700073.25</td>\n",
       "      <td>0.68</td>\n",
       "      <td>0.89</td>\n",
       "      <td>77.258</td>\n",
       "      <td>76.834</td>\n",
       "      <td>78.101</td>\n",
       "      <td>833342.56</td>\n",
       "      <td>775944.81</td>\n",
       "      <td>880670.39</td>\n",
       "      <td>0.65</td>\n",
       "    </tr>\n",
       "    <tr>\n",
       "      <th>2020-08-07</th>\n",
       "      <td>76.96</td>\n",
       "      <td>77.67</td>\n",
       "      <td>76.33</td>\n",
       "      <td>76.01</td>\n",
       "      <td>549809.00</td>\n",
       "      <td>-0.82</td>\n",
       "      <td>-1.06</td>\n",
       "      <td>77.144</td>\n",
       "      <td>76.776</td>\n",
       "      <td>78.369</td>\n",
       "      <td>864377.44</td>\n",
       "      <td>779417.38</td>\n",
       "      <td>904642.52</td>\n",
       "      <td>0.51</td>\n",
       "    </tr>\n",
       "  </tbody>\n",
       "</table>\n",
       "</div>"
      ],
      "text/plain": [
       "             open   high  close    low     volume  price_change  p_change  \\\n",
       "date                                                                        \n",
       "2020-08-13  77.50  77.60  76.60  76.51  421355.47         -0.56     -0.73   \n",
       "2020-08-12  76.80  77.46  77.16  76.40  586012.62          0.39      0.51   \n",
       "2020-08-11  77.45  78.68  76.77  76.51  775309.00         -0.24     -0.31   \n",
       "2020-08-10  76.02  77.69  77.01  75.82  700073.25          0.68      0.89   \n",
       "2020-08-07  76.96  77.67  76.33  76.01  549809.00         -0.82     -1.06   \n",
       "\n",
       "               ma5    ma10    ma20      v_ma5     v_ma10     v_ma20  turnover  \n",
       "date                                                                           \n",
       "2020-08-13  76.774  76.916  77.641  606511.87  755315.80  808329.45      0.39  \n",
       "2020-08-12  76.884  76.859  77.722  651753.37  777804.57  853170.18      0.54  \n",
       "2020-08-11  76.878  76.873  77.875  692112.04  789489.84  870007.94      0.72  \n",
       "2020-08-10  77.258  76.834  78.101  833342.56  775944.81  880670.39      0.65  \n",
       "2020-08-07  77.144  76.776  78.369  864377.44  779417.38  904642.52      0.51  "
      ]
     },
     "execution_count": 3,
     "metadata": {},
     "output_type": "execute_result"
    }
   ],
   "source": [
    "st_code = '601318'\n",
    "st_name = '中国平安'\n",
    "st = ts.get_hist_data(st_code)\n",
    "st.head()"
   ]
  },
  {
   "cell_type": "code",
   "execution_count": 4,
   "metadata": {},
   "outputs": [
    {
     "data": {
      "text/plain": [
       "8484"
      ]
     },
     "execution_count": 4,
     "metadata": {},
     "output_type": "execute_result"
    }
   ],
   "source": [
    "# 数据条数（天）\n",
    "st.size"
   ]
  },
  {
   "cell_type": "markdown",
   "metadata": {},
   "source": [
    "# 数据可视化 - 收盘价走势图"
   ]
  },
  {
   "cell_type": "code",
   "execution_count": 5,
   "metadata": {},
   "outputs": [],
   "source": [
    "date_list=[]\n",
    "close_list=[]\n",
    "for dates, row in st.iterrows():\n",
    "    date_time = datetime.datetime.strptime(dates,'%Y-%m-%d')\n",
    "    t = date2num(date_time)\n",
    "    close = row[3]\n",
    "    date_list.append(t)\n",
    "    close_list.append(close)"
   ]
  },
  {
   "cell_type": "code",
   "execution_count": 6,
   "metadata": {},
   "outputs": [
    {
     "data": {
      "text/plain": [
       "[<matplotlib.lines.Line2D at 0x7f0f13cf1e80>]"
      ]
     },
     "execution_count": 6,
     "metadata": {},
     "output_type": "execute_result"
    },
    {
     "data": {
      "image/png": "[encoded data removed]",
      "text/plain": [
       "<Figure size 1080x360 with 1 Axes>"
      ]
     },
     "metadata": {
      "needs_background": "light"
     },
     "output_type": "display_data"
    }
   ],
   "source": [
    "fig, ax = plt.subplots()\n",
    "fig.subplots_adjust(bottom=0.2)\n",
    "# 设置X轴为日期时间\n",
    "ax.xaxis_date()\n",
    "plt.xticks(rotation=45)\n",
    "plt.yticks()\n",
    "plt.title(st_code)\n",
    "plt.xlabel(\"date\")\n",
    "plt.ylabel(\"close price(yuan)\")\n",
    "plt.plot(date_list,close_list)"
   ]
  },
  {
   "cell_type": "markdown",
   "metadata": {},
   "source": [
    "# 日 K 图绘制"
   ]
  },
  {
   "cell_type": "code",
   "execution_count": 7,
   "metadata": {},
   "outputs": [
    {
     "name": "stdout",
     "output_type": "stream",
     "text": [
      "本接口即将停止更新，请尽快使用Pro版接口：https://tushare.pro/document/2\n"
     ]
    },
    {
     "data": {
      "image/png": "[encoded data removed]",
      "text/plain": [
       "<Figure size 1080x360 with 1 Axes>"
      ]
     },
     "metadata": {
      "needs_background": "light"
     },
     "output_type": "display_data"
    }
   ],
   "source": [
    "hist_data = ts.get_hist_data(st_code)\n",
    "data_list = []\n",
    "for dates, row in hist_data.iterrows():\n",
    "    # 将时间转换为数字\n",
    "    date_time = datetime.datetime.strptime(dates,'%Y-%m-%d')\n",
    "    t = date2num(date_time)\n",
    "    #注意tushare数据的顺序和candlestick_ohlc函数参数的默认顺序不一样\n",
    "    open = row[0]\n",
    "    high = row[1]\n",
    "    low = row[3]\n",
    "    close = row[2]\n",
    "    datas = (t,open,high,low,close)\n",
    "    data_list.append(datas)\n",
    "# 创建子图\n",
    "fig, ax = plt.subplots()\n",
    "fig.subplots_adjust(bottom=0.2)\n",
    "# 设置X轴刻度为日期时间\n",
    "ax.xaxis_date()\n",
    "\n",
    "plt.xticks(rotation=45)\n",
    "plt.yticks()\n",
    "plt.title(st_code)\n",
    "plt.xlabel(\"date\")\n",
    "plt.ylabel(\"close price(yuan)\")\n",
    "\n",
    "candlestick_ohlc(ax, data_list[:20], width=1.5,colorup='r',colordown='green')\n",
    "\n",
    "plt.show()"
   ]
  },
  {
   "cell_type": "markdown",
   "metadata": {},
   "source": [
    "有那么点意思了。\n",
    "\n",
    "但这个 K 线图信息量过少，而且，相邻两天的矩形相互覆盖，很难看。"
   ]
  },
  {
   "cell_type": "code",
   "execution_count": null,
   "metadata": {},
   "outputs": [],
   "source": []
  }
 ],
 "metadata": {
  "kernelspec": {
   "display_name": "Python 3",
   "language": "python",
   "name": "python3"
  },
  "language_info": {
   "codemirror_mode": {
    "name": "ipython",
    "version": 3
   },
   "file_extension": ".py",
   "mimetype": "text/x-python",
   "name": "python",
   "nbconvert_exporter": "python",
   "pygments_lexer": "ipython3",
   "version": "3.8.2"
  }
 },
 "nbformat": 4,
 "nbformat_minor": 4
}
